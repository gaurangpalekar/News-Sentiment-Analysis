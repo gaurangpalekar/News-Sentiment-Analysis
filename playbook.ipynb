{
 "cells": [
  {
   "cell_type": "code",
   "execution_count": null,
   "metadata": {},
   "outputs": [],
   "source": [
    "# Imports\n",
    "import pandas as pd\n",
    "# import numpy as np\n",
    "import datetime\n",
    "\n",
    "import pandas as pd\n",
    "import matplotlib.pyplot as plt\n",
    "import plotly.express as px\n",
    "\n",
    "import streamlit as st"
   ]
  },
  {
   "cell_type": "code",
   "execution_count": null,
   "metadata": {},
   "outputs": [],
   "source": [
    "# read csv files\n",
    "articles_data = pd.read_csv('./datasets/NIFTY_500_Articles.csv', index_col=0)\n",
    "ticker_metadata = pd.read_csv('./datasets/ticker_metadata.csv', index_col=0)\n"
   ]
  },
  {
   "cell_type": "code",
   "execution_count": null,
   "metadata": {},
   "outputs": [],
   "source": []
  },
  {
   "cell_type": "code",
   "execution_count": null,
   "metadata": {},
   "outputs": [],
   "source": [
    "#Universe filter variable\n",
    "universe = 'NIFTY_50'\n",
    "universe_tickers = pd.read_csv('./datasets/{}.csv'.format(universe), index_col=0)['Symbol']"
   ]
  },
  {
   "cell_type": "code",
   "execution_count": null,
   "metadata": {},
   "outputs": [],
   "source": [
    "#date and time filter variables\n",
    "date_interval = 30\n",
    "cutoff_date = datetime.datetime.now().date() - datetime.timedelta(date_interval)"
   ]
  },
  {
   "cell_type": "code",
   "execution_count": null,
   "metadata": {},
   "outputs": [],
   "source": [
    "# filter articles based on date filter\n",
    "date_filter_article = articles_data[pd.to_datetime(\n",
    "    articles_data['Date']).dt.date > cutoff_date]\n",
    "# calculate mean sentiment score for each ticker\n",
    "filter_article_sent_score = date_filter_article.groupby(\n",
    "    'Ticker').mean().reset_index()\n"
   ]
  },
  {
   "cell_type": "code",
   "execution_count": null,
   "metadata": {},
   "outputs": [],
   "source": [
    "date_filter_article[date_filter_article['Ticker'] == 'SBIN'][['Headline','Date','Time']].reset_index(drop=True)"
   ]
  },
  {
   "cell_type": "code",
   "execution_count": null,
   "metadata": {},
   "outputs": [],
   "source": [
    "filter_article_sent_score"
   ]
  },
  {
   "cell_type": "code",
   "execution_count": null,
   "metadata": {},
   "outputs": [],
   "source": [
    "filter_article_sent_score[filter_article_sent_score['Ticker'] == 'HDFCLIFE']"
   ]
  },
  {
   "cell_type": "code",
   "execution_count": null,
   "metadata": {},
   "outputs": [],
   "source": [
    "#filter companies based on universe\n",
    "universe_filtered_df = filter_article_sent_score[filter_article_sent_score['Ticker'].isin(universe_tickers)]"
   ]
  },
  {
   "cell_type": "code",
   "execution_count": null,
   "metadata": {},
   "outputs": [],
   "source": [
    "universe_filtered_df"
   ]
  },
  {
   "cell_type": "code",
   "execution_count": null,
   "metadata": {},
   "outputs": [],
   "source": [
    "final_df = pd.merge(ticker_metadata, universe_filtered_df, on='Ticker', how='inner')"
   ]
  },
  {
   "cell_type": "code",
   "execution_count": null,
   "metadata": {},
   "outputs": [],
   "source": [
    "final_df.columns = ['Symbol','Macro-Sector','Industry', 'Market Cap (Billion Rs)','Company Name','XC-Sector', 'XC-Industry', 'Negative', 'Neutral', 'Positive', 'Sentiment Score']"
   ]
  },
  {
   "cell_type": "code",
   "execution_count": null,
   "metadata": {},
   "outputs": [],
   "source": [
    "final_df"
   ]
  },
  {
   "cell_type": "code",
   "execution_count": null,
   "metadata": {},
   "outputs": [],
   "source": [
    "import pandas as pd\n",
    "import matplotlib.pyplot as plt\n",
    "import plotly.express as px"
   ]
  },
  {
   "cell_type": "code",
   "execution_count": null,
   "metadata": {},
   "outputs": [],
   "source": [
    "fig = px.treemap(\n",
    "    final_df, path=[px.Constant('NSE'), 'XC-Sector', 'XC-Industry', 'Symbol'], values= 'Market Cap (Billion Rs)', color='Sentiment Score',\n",
    "    hover_data=['Company Name', 'Negative', 'Neutral', 'Positive', 'Sentiment Score'], color_continuous_scale=['#FF0000', \"#000000\", '#00FF00'], color_continuous_midpoint=0\n",
    "    )\n",
    "#fig.data[0].customdata = final_df[['Company Name', 'Negative', 'Neutral', 'Positive', 'Sentiment Score']]\n",
    "fig.data[0].texttemplate = \"%{label}<br>%{customdata[4]}\"\n",
    "fig.update_traces(textposition=\"middle center\")\n",
    "fig.update_layout(height=800)\n",
    "fig.update_layout(margin = dict(t=30, l=10, r=10, b=10), font_size=20)"
   ]
  },
  {
   "cell_type": "code",
   "execution_count": null,
   "metadata": {},
   "outputs": [],
   "source": [
    "# Get current date, time and timezone to print to the App\n",
    "now = datetime.datetime.now()\n",
    "dt_string = now.strftime(\"%d/%m/%Y %H:%M:%S\")\n",
    "timezone_string = datetime.datetime.now().astimezone().tzname()"
   ]
  },
  {
   "attachments": {},
   "cell_type": "markdown",
   "metadata": {},
   "source": [
    "-----------------------------------"
   ]
  },
  {
   "cell_type": "code",
   "execution_count": 2,
   "metadata": {},
   "outputs": [],
   "source": [
    "import investpy"
   ]
  },
  {
   "cell_type": "code",
   "execution_count": 13,
   "metadata": {},
   "outputs": [
    {
     "data": {
      "text/plain": [
       "['SPBSEHC',\n",
       " 'BSETECK',\n",
       " 'SPBSFIIP',\n",
       " 'SPBSEIT',\n",
       " 'BSEMET',\n",
       " 'BSEOIL',\n",
       " 'BSEPOWER',\n",
       " 'BSEPSU',\n",
       " 'BSEREAL',\n",
       " 'NIFVIX',\n",
       " 'B50INCDN',\n",
       " 'NIFTY200',\n",
       " 'NSED',\n",
       " 'NV20',\n",
       " 'NIFTY500',\n",
       " 'NIFMDCP100',\n",
       " 'NIMDCP50',\n",
       " 'NN50',\n",
       " 'SPBSEFMCG',\n",
       " 'NIFSMCP100',\n",
       " 'NIFTY100',\n",
       " 'BSECD',\n",
       " 'NIFTYFMCG',\n",
       " 'BSEBANK',\n",
       " 'BKINXTR',\n",
       " 'BSESN',\n",
       " 'NSEI',\n",
       " 'NIFTYAUTO',\n",
       " 'NSEBANK',\n",
       " 'NIFTYCOM',\n",
       " 'NIFTYFIN',\n",
       " 'NISM250',\n",
       " 'NIFTYCONS',\n",
       " 'NIFTYINFR',\n",
       " 'NIFTYIT',\n",
       " 'NIFTYMED',\n",
       " 'NIFTYMET',\n",
       " 'NIFTYMNC',\n",
       " 'NIPHARM',\n",
       " 'NIFTYPSU',\n",
       " 'NIFTYREAL',\n",
       " 'NIFTYSER',\n",
       " 'BSEAUTO',\n",
       " 'BSECG',\n",
       " 'BKINX',\n",
       " 'SPBSAIP',\n",
       " 'SPBSESC',\n",
       " 'BSECRBX',\n",
       " 'SPBSEBH',\n",
       " 'SPBS400M',\n",
       " 'SPBS250S',\n",
       " 'SPBS250L',\n",
       " 'SPBS150M',\n",
       " 'SPBSEDSI',\n",
       " 'SPBSEESG',\n",
       " 'DNIFTRI',\n",
       " 'NIFTYPSE',\n",
       " 'NIFML15',\n",
       " 'NIFTYLVI',\n",
       " 'NIFTYHBI',\n",
       " 'NI15',\n",
       " 'NIFTRI',\n",
       " 'SPBSEEVI',\n",
       " 'BSEGRNX',\n",
       " 'BSEIINF',\n",
       " 'MIN0000TPUS',\n",
       " 'BSEDX30',\n",
       " 'BSEDX200',\n",
       " 'BSEDX100',\n",
       " 'BSECPSE',\n",
       " 'BSESMEIPO',\n",
       " 'SPBSSCSI',\n",
       " 'SPBSESNXT50',\n",
       " 'SPBSESN50',\n",
       " 'SPBSEQLI',\n",
       " 'SPBSEMOI',\n",
       " 'SPBSMCSI',\n",
       " 'SPBSELVI',\n",
       " 'BSEIPO',\n",
       " 'SPBIMIP',\n",
       " 'NIFTYDVOP',\n",
       " 'SPBSEMC',\n",
       " 'NICPSE',\n",
       " 'NIF500TRI',\n",
       " 'TRMCXCOPP',\n",
       " 'TRMCXCMP',\n",
       " 'TRMCXPRM',\n",
       " 'TRMCXBSM',\n",
       " 'NIFGSCMP',\n",
       " 'NIFGS813',\n",
       " 'TRMCXCROL',\n",
       " 'NIFGS48',\n",
       " 'NIFGS1115',\n",
       " 'NIFGS10',\n",
       " 'NIFGS10CLN',\n",
       " 'BSE500',\n",
       " 'BSE200',\n",
       " 'BSE100',\n",
       " 'NIFGS15PLS',\n",
       " 'TRMCXGOLD',\n",
       " 'NIFPVTBNK',\n",
       " 'FTWIINDL',\n",
       " 'NIF500SHTRI',\n",
       " 'NI500SH',\n",
       " 'NIFTR2X',\n",
       " 'NIFTR1X',\n",
       " 'NI50SH',\n",
       " 'NIFPR2X',\n",
       " 'NIFPR1X',\n",
       " 'NIFTYDV',\n",
       " 'NLIX50',\n",
       " 'NIFTY100EW',\n",
       " 'MCIMET',\n",
       " 'MCICOMD',\n",
       " 'MCIAGRI',\n",
       " 'invin50',\n",
       " 'FTSWIND',\n",
       " 'NIFTYALI',\n",
       " 'BKINCTR',\n",
       " 'NIFTYENR',\n",
       " 'BKINCH',\n",
       " 'BKIN',\n",
       " 'DJIMIND',\n",
       " 'DJIMIN',\n",
       " 'TRX50INP',\n",
       " 'TRXFLDINPBANK',\n",
       " 'MIIN00000NUS',\n",
       " 'MIIN00000PIN',\n",
       " 'BKINCHTR',\n",
       " 'B15IDRD',\n",
       " 'B50IND',\n",
       " 'B50INE',\n",
       " 'DJSFIN',\n",
       " 'DJSFIND',\n",
       " 'BKGINT',\n",
       " 'BKDIN',\n",
       " 'BKINT',\n",
       " 'BKGIN',\n",
       " 'BKDINT',\n",
       " 'BKINC']"
      ]
     },
     "execution_count": 13,
     "metadata": {},
     "output_type": "execute_result"
    }
   ],
   "source": [
    "investpy.indices.get_indices('india').symbol.to_list()"
   ]
  },
  {
   "cell_type": "code",
   "execution_count": null,
   "metadata": {},
   "outputs": [],
   "source": []
  }
 ],
 "metadata": {
  "kernelspec": {
   "display_name": "Python 3",
   "language": "python",
   "name": "python3"
  },
  "language_info": {
   "codemirror_mode": {
    "name": "ipython",
    "version": 3
   },
   "file_extension": ".py",
   "mimetype": "text/x-python",
   "name": "python",
   "nbconvert_exporter": "python",
   "pygments_lexer": "ipython3",
   "version": "3.11.3"
  },
  "orig_nbformat": 4,
  "vscode": {
   "interpreter": {
    "hash": "236178af6f648e00519e077836b3ac634bd3def9b921796a679cc929c64b686e"
   }
  }
 },
 "nbformat": 4,
 "nbformat_minor": 2
}
