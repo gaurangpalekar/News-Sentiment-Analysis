{
 "cells": [
  {
   "attachments": {},
   "cell_type": "markdown",
   "metadata": {},
   "source": [
    "Imports"
   ]
  },
  {
   "cell_type": "code",
   "execution_count": 1,
   "metadata": {},
   "outputs": [],
   "source": [
    "import pandas as pd\n",
    "import numpy as np\n",
    "from urllib.request import urlopen, Request\n",
    "from bs4 import BeautifulSoup\n",
    "from pprint import pprint\n",
    "from nsepython import *\n",
    "from datetime import datetime\n",
    "import time"
   ]
  },
  {
   "attachments": {},
   "cell_type": "markdown",
   "metadata": {},
   "source": [
    "Get Company Tickers from [NSE Website](https://www1.nseindia.com/content/indices/ind_nifty500list.csv)"
   ]
  },
  {
   "cell_type": "code",
   "execution_count": 2,
   "metadata": {},
   "outputs": [
    {
     "data": {
      "text/plain": [
       "0      ADANIENT\n",
       "1    ADANIPORTS\n",
       "2    APOLLOHOSP\n",
       "3    ASIANPAINT\n",
       "4      AXISBANK\n",
       "Name: Symbol, dtype: object"
      ]
     },
     "execution_count": 2,
     "metadata": {},
     "output_type": "execute_result"
    }
   ],
   "source": [
    "nifty_500_ticker_url = 'https://www1.nseindia.com/content/indices/ind_nifty500list.csv'\n",
    "nifty_50_ticker_url = 'https://www1.nseindia.com/content/indices/ind_nifty50list.csv'\n",
    "tickers_file = pd.read_csv(nifty_50_ticker_url)\n",
    "tickers_df = tickers_file[['Symbol', 'Company Name']]\n",
    "tickers = tickers_df['Symbol']\n",
    "tickers.head()"
   ]
  },
  {
   "cell_type": "code",
   "execution_count": 3,
   "metadata": {},
   "outputs": [],
   "source": [
    "outliers = ['M&M']"
   ]
  },
  {
   "cell_type": "code",
   "execution_count": 5,
   "metadata": {},
   "outputs": [
    {
     "data": {
      "text/plain": [
       "0       ADANIENT\n",
       "1     ADANIPORTS\n",
       "2     APOLLOHOSP\n",
       "3     ASIANPAINT\n",
       "4       AXISBANK\n",
       "5     BAJAJ-AUTO\n",
       "6     BAJFINANCE\n",
       "7     BAJAJFINSV\n",
       "8           BPCL\n",
       "9     BHARTIARTL\n",
       "10     BRITANNIA\n",
       "11         CIPLA\n",
       "12     COALINDIA\n",
       "13      DIVISLAB\n",
       "14       DRREDDY\n",
       "15     EICHERMOT\n",
       "16        GRASIM\n",
       "17       HCLTECH\n",
       "18      HDFCBANK\n",
       "19      HDFCLIFE\n",
       "20    HEROMOTOCO\n",
       "21      HINDALCO\n",
       "22    HINDUNILVR\n",
       "23          HDFC\n",
       "24     ICICIBANK\n",
       "25           ITC\n",
       "26    INDUSINDBK\n",
       "27          INFY\n",
       "28      JSWSTEEL\n",
       "29     KOTAKBANK\n",
       "30            LT\n",
       "31           M&M\n",
       "32        MARUTI\n",
       "33          NTPC\n",
       "34     NESTLEIND\n",
       "35          ONGC\n",
       "36     POWERGRID\n",
       "37      RELIANCE\n",
       "38       SBILIFE\n",
       "39          SBIN\n",
       "40     SUNPHARMA\n",
       "41           TCS\n",
       "42    TATACONSUM\n",
       "43    TATAMOTORS\n",
       "44     TATASTEEL\n",
       "45         TECHM\n",
       "46         TITAN\n",
       "47           UPL\n",
       "48    ULTRACEMCO\n",
       "49         WIPRO\n",
       "Name: Symbol, dtype: object"
      ]
     },
     "execution_count": 5,
     "metadata": {},
     "output_type": "execute_result"
    }
   ],
   "source": [
    "tickers"
   ]
  },
  {
   "cell_type": "code",
   "execution_count": 4,
   "metadata": {},
   "outputs": [
    {
     "data": {
      "text/plain": [
       "array(['ADANIENT', 'ADANIPORTS', 'APOLLOHOSP', 'ASIANPAINT', 'AXISBANK',\n",
       "       'BAJAJ-AUTO', 'BAJAJFINSV', 'BAJFINANCE', 'BHARTIARTL', 'BPCL',\n",
       "       'BRITANNIA', 'CIPLA', 'COALINDIA', 'DIVISLAB', 'DRREDDY',\n",
       "       'EICHERMOT', 'GRASIM', 'HCLTECH', 'HDFC', 'HDFCBANK', 'HDFCLIFE',\n",
       "       'HEROMOTOCO', 'HINDALCO', 'HINDUNILVR', 'ICICIBANK', 'INDUSINDBK',\n",
       "       'INFY', 'ITC', 'JSWSTEEL', 'KOTAKBANK', 'LT', 'MARUTI',\n",
       "       'NESTLEIND', 'NTPC', 'ONGC', 'POWERGRID', 'RELIANCE', 'SBILIFE',\n",
       "       'SBIN', 'SUNPHARMA', 'TATACONSUM', 'TATAMOTORS', 'TATASTEEL',\n",
       "       'TCS', 'TECHM', 'TITAN', 'ULTRACEMCO', 'UPL', 'WIPRO'],\n",
       "      dtype=object)"
      ]
     },
     "execution_count": 4,
     "metadata": {},
     "output_type": "execute_result"
    }
   ],
   "source": [
    "np.setdiff1d(tickers, outliers)"
   ]
  },
  {
   "attachments": {},
   "cell_type": "markdown",
   "metadata": {},
   "source": [
    "Scrape Article Headlines and Dates"
   ]
  },
  {
   "cell_type": "code",
   "execution_count": null,
   "metadata": {},
   "outputs": [],
   "source": [
    "news_url = 'https://ticker.finology.in/company/'"
   ]
  },
  {
   "cell_type": "code",
   "execution_count": null,
   "metadata": {},
   "outputs": [],
   "source": [
    "# list to store article data\n",
    "data = []\n",
    "companies_len = len(tickers)\n",
    "for i in range(270):\n",
    "    print(i)\n",
    "    req = Request(url= '{}/{}'.format(news_url, tickers[i]),headers={'User-Agent': 'Mozilla/5.0 (Windows NT 6.1; WOW64; rv:20.0) Gecko/20100101 Firefox/20.0'})\n",
    "    response = urlopen(req)\n",
    "    html = BeautifulSoup(response) \n",
    "    news_links = html.select('.newslink')  \n",
    "    for link in news_links:\n",
    "        title = link.find('span', class_='h6').text\n",
    "        #separate date and time from datetime object\n",
    "        date_time_obj = datetime.strptime(link.find('small').text, '%d %b %Y, %I:%M%p')\n",
    "        art_date = date_time_obj.date().strftime('%Y/%m/%d')\n",
    "        art_time = date_time_obj.time().strftime('%H:%M')\n",
    "        data.append([tickers[i], title, art_date, art_time])  \n",
    "    '''if (i != 0 and i%200 == 0):\n",
    "        print('sleeping')\n",
    "        time.sleep(30)'''\n",
    "df = pd.DataFrame(data, columns=['Ticker', 'Headline', 'Date', 'Time'])"
   ]
  },
  {
   "cell_type": "code",
   "execution_count": null,
   "metadata": {},
   "outputs": [],
   "source": [
    "if 4//200:\n",
    "    print('hello')    "
   ]
  },
  {
   "cell_type": "code",
   "execution_count": null,
   "metadata": {},
   "outputs": [],
   "source": [
    "pprint(df)"
   ]
  },
  {
   "attachments": {},
   "cell_type": "markdown",
   "metadata": {},
   "source": [
    "Sentiment Analysis"
   ]
  },
  {
   "cell_type": "code",
   "execution_count": null,
   "metadata": {},
   "outputs": [],
   "source": [
    "import nltk\n",
    "nltk.downloader.download('vader_lexicon')\n",
    "from nltk.sentiment.vader import SentimentIntensityAnalyzer"
   ]
  },
  {
   "cell_type": "code",
   "execution_count": null,
   "metadata": {},
   "outputs": [],
   "source": [
    "vader = SentimentIntensityAnalyzer()\n",
    "scores = df['Headline'].apply(vader.polarity_scores).tolist()\n",
    "scores_df = pd.DataFrame(scores)"
   ]
  },
  {
   "cell_type": "code",
   "execution_count": null,
   "metadata": {},
   "outputs": [],
   "source": [
    "new_df = pd.merge(left=df, right=scores_df, on=df.index.values).drop(['key_0'], axis=1)"
   ]
  },
  {
   "cell_type": "code",
   "execution_count": null,
   "metadata": {},
   "outputs": [],
   "source": [
    "new_df"
   ]
  },
  {
   "cell_type": "code",
   "execution_count": null,
   "metadata": {},
   "outputs": [],
   "source": [
    "final_df = new_df.groupby('Ticker').mean()"
   ]
  },
  {
   "cell_type": "code",
   "execution_count": null,
   "metadata": {},
   "outputs": [],
   "source": [
    "final_df"
   ]
  },
  {
   "attachments": {},
   "cell_type": "markdown",
   "metadata": {},
   "source": [
    "Get Company Sector, industry data"
   ]
  },
  {
   "cell_type": "code",
   "execution_count": null,
   "metadata": {},
   "outputs": [],
   "source": [
    "sector = []\n",
    "industry = []\n",
    "mCap = []\n",
    "for i in range(270):\n",
    "    print(tickers[i])\n",
    "    meta = nse_eq(tickers[i])\n",
    "    print(tickers[i])\n",
    "    sector.append(meta['industryInfo']['macro'])\n",
    "    pprint('Sector: {}'.format(meta['industryInfo']['macro']))\n",
    "    industry.append(meta['industryInfo']['sector'])\n",
    "    pprint('Industry: {}'.format(meta['industryInfo']['sector']))\n",
    "    ticker_mcap = round((meta['priceInfo']['previousClose'] * meta['securityInfo']['issuedSize'])/1000000000, 2)\n",
    "    mCap.append(ticker_mcap)\n",
    "    print('market cap is Rs {}'.format(ticker_mcap))\n",
    "    print('\\n')\n",
    "\n",
    "final_df['sector'] = sector\n",
    "final_df['industry'] = industry\n",
    "final_df['mCap (Billion)'] = mCap"
   ]
  },
  {
   "cell_type": "code",
   "execution_count": null,
   "metadata": {},
   "outputs": [],
   "source": [
    "pprint(nse_eq('APOLLOHOSP'))"
   ]
  },
  {
   "cell_type": "code",
   "execution_count": null,
   "metadata": {},
   "outputs": [],
   "source": [
    "final_df = final_df.reset_index()"
   ]
  },
  {
   "cell_type": "code",
   "execution_count": null,
   "metadata": {},
   "outputs": [],
   "source": [
    "final_df"
   ]
  },
  {
   "cell_type": "code",
   "execution_count": null,
   "metadata": {},
   "outputs": [],
   "source": [
    "final_df = pd.merge(final_df, tickers_df, left_on='Ticker', right_on='Symbol').drop('Symbol', axis=1)"
   ]
  },
  {
   "cell_type": "code",
   "execution_count": null,
   "metadata": {},
   "outputs": [],
   "source": [
    "final_df.columns = ['Symbol', 'Negative', 'Neutral', 'Positive', 'Sentiment Score', 'Sector', 'Industry', 'MCap (Billion)', 'Company Name']"
   ]
  },
  {
   "cell_type": "code",
   "execution_count": null,
   "metadata": {},
   "outputs": [],
   "source": [
    "final_df"
   ]
  },
  {
   "attachments": {},
   "cell_type": "markdown",
   "metadata": {},
   "source": [
    "Plotting"
   ]
  },
  {
   "cell_type": "code",
   "execution_count": null,
   "metadata": {},
   "outputs": [],
   "source": [
    "import pandas as pd\n",
    "import matplotlib.pyplot as plt\n",
    "%matplotlib inline\n",
    "import plotly\n",
    "import plotly.express as px"
   ]
  },
  {
   "cell_type": "code",
   "execution_count": null,
   "metadata": {},
   "outputs": [],
   "source": [
    "fig = px.treemap(\n",
    "    final_df, path=[px.Constant('Nifty 500'), 'Sector', 'Industry', 'Symbol'], values='MCap (Billion)', color='Sentiment Score',\n",
    "    hover_data=['Company Name', 'Negative', 'Neutral', 'Positive', 'Sentiment Score'], color_continuous_scale=['#FF0000', \"#000000\", '#00FF00'], color_continuous_midpoint=0\n",
    "    )\n",
    "fig.data[0].customdata = final_df[['Company Name', 'Negative', 'Neutral', 'Positive', 'Sentiment Score']]\n",
    "fig.data[0].texttemplate = \"%{label}<br>%{customdata[4]}\"\n",
    "fig.update_traces(textposition=\"middle center\")\n",
    "fig.update_layout(margin = dict(t=30, l=10, r=10, b=10), font_size=20)\n",
    "fig.show()"
   ]
  },
  {
   "cell_type": "code",
   "execution_count": null,
   "metadata": {},
   "outputs": [],
   "source": [
    "'''\n",
    "req = Request(url= '{}/{}'.format(news_url, tickers[0]),headers={'User-Agent': 'Mozilla/5.0 (Windows NT 6.1; WOW64; rv:20.0) Gecko/20100101 Firefox/20.0'})\n",
    "response = urlopen(req)\n",
    "html = BeautifulSoup(response)\n",
    "data = [] \n",
    "news_links = html.select('.newslink')\n",
    "for link in news_links:\n",
    "    title = link.find('span', class_='h6').text\n",
    "    date = link.find('small').text\n",
    "    data.append([title, date])\n",
    "\n",
    "df = pd.DataFrame(data, columns=['Title', 'Date'])\n",
    "\n",
    "print(df)\n",
    "'''"
   ]
  },
  {
   "attachments": {},
   "cell_type": "markdown",
   "metadata": {},
   "source": [
    "References"
   ]
  },
  {
   "attachments": {},
   "cell_type": "markdown",
   "metadata": {},
   "source": [
    "https://blog.devgenius.io/best-way-to-speed-up-a-bulk-of-http-requests-in-python-4ec75badabed"
   ]
  }
 ],
 "metadata": {
  "kernelspec": {
   "display_name": "Python 3",
   "language": "python",
   "name": "python3"
  },
  "language_info": {
   "codemirror_mode": {
    "name": "ipython",
    "version": 3
   },
   "file_extension": ".py",
   "mimetype": "text/x-python",
   "name": "python",
   "nbconvert_exporter": "python",
   "pygments_lexer": "ipython3",
   "version": "3.11.1"
  },
  "orig_nbformat": 4,
  "vscode": {
   "interpreter": {
    "hash": "236178af6f648e00519e077836b3ac634bd3def9b921796a679cc929c64b686e"
   }
  }
 },
 "nbformat": 4,
 "nbformat_minor": 2
}
